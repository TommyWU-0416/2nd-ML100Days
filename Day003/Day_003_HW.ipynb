{
 "cells": [
  {
   "cell_type": "markdown",
   "metadata": {},
   "source": [
    "## [作業目標]\n",
    "持續接觸有關機器學習的相關專案與最新技術\n",
    "\n",
    "\n",
    "補充：\n",
    "- [回歸與分類](https://ithelp.ithome.com.tw/articles/10219192)\n",
    "- [訓練集、驗證集、測試集的定義與劃分](https://cynthiachuang.github.io/What-is-the-Difference-between-Training-Validation-and-Test-Dataset/)\n",
    " - 訓練集（training)\n",
    "        舉例來說就是上課學習。\n",
    " - 驗證集（validation）\n",
    "        舉例來說就是模擬考，你會根據模擬考的成績繼續學習、或調整學習方式重新學習。\n",
    " - 測試集（test）\n",
    "        就像是學測，用來評估你最終的學習結果。"
   ]
  },
  {
   "cell_type": "markdown",
   "metadata": {},
   "source": [
    "## [作業重點]\n",
    "透過觀察頂尖公司的機器學習文章，來了解各公司是怎麼應用機器學習在實際的專案上"
   ]
  },
  {
   "cell_type": "markdown",
   "metadata": {},
   "source": [
    "## [作業]\n",
    "今天的作業希望大家能夠看看全球機器學習巨頭們在做的機器學習專案。以 google 為例，下圖是 Google 內部專案使用機器學習的數量，隨著時間進展，現在早已超過 2000 個專案在使用機器學習。"
   ]
  },
  {
   "cell_type": "markdown",
   "metadata": {},
   "source": [
    "![image](https://cdn-images-1.medium.com/max/800/1*U_L8qI8RmYS-MOBrYvXhSA.png)"
   ]
  },
  {
   "cell_type": "markdown",
   "metadata": {},
   "source": [
    "底下幫同學整理幾間知名企業的 blog 或機器學習網站 (自行搜尋也可)，這些網站都會整理最新的機器學習專案或者是技術文章，請挑選一篇文章閱讀並試著回答\n",
    "1. 專案的目標？ (要解決什麼問題）\n",
    "2. 使用的技術是？ (只需知道名稱即可，例如：使用 CNN 卷積神經網路做影像分類)\n",
    "3. 資料來源？ "
   ]
  },
  {
   "cell_type": "markdown",
   "metadata": {},
   "source": [
    "- [Google AI blog](https://ai.googleblog.com/)\n",
    "- [Facebook Research blog](https://research.fb.com/blog/)\n",
    "- [Apple machine learning journal](https://machinelearning.apple.com/)\n",
    "- [機器之心](https://www.jiqizhixin.com/)\n",
    "- [雷鋒網](http://www.leiphone.com/category/ai)"
   ]
  },
  {
   "cell_type": "markdown",
   "metadata": {},
   "source": [
    "## 專案目標：[Addressing Range Anxiety with Smart Electric Vehicle Routing](https://ai.googleblog.com/2021/01/addressing-range-anxiety-with-smart.html)\n",
    "Wednesday, January 27, 2021\n",
    "\n",
    "### 本專案目標擬解決電動汽車在google map中的地圖導航問題\n",
    "　　在原有的map中，會針對汽油車以及加油站做出相對應的地圖，但電動車的充電站明顯的少了許多(range anxiety)，且90％到100％的電池充電時間比從20％到30％的充電時間更長，因此如何針對電動車、充電站進行路線規劃是一大待解決問題。\n",
    "  \n",
    "## 使用技術：使用Dijkstra’s algorithm or A*  & greedy geometric spanner\n",
    "　　 greedy geometric spanner：在各點中找出相對應最近的路徑，使得總路徑為最短。\n",
    "\n",
    "## 資料來源：Google AI blog"
   ]
  }
 ],
 "metadata": {
  "kernelspec": {
   "display_name": "Python 3",
   "language": "python",
   "name": "python3"
  },
  "language_info": {
   "codemirror_mode": {
    "name": "ipython",
    "version": 3
   },
   "file_extension": ".py",
   "mimetype": "text/x-python",
   "name": "python",
   "nbconvert_exporter": "python",
   "pygments_lexer": "ipython3",
   "version": "3.8.5"
  }
 },
 "nbformat": 4,
 "nbformat_minor": 2
}
